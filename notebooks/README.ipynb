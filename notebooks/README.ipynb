{
 "cells": [
  {
   "cell_type": "markdown",
   "metadata": {},
   "source": [
    " [![Build Status](https://travis-ci.org/vincentcp/CardinalBSplines.svg?branch=master)](https://travis-ci.org/vincentcp/CardinalBSplines)\n",
    " [![Coverage Status](https://coveralls.io/repos/github/vincentcp/CardinalBSplines/badge.svg?branch=master)](https://coveralls.io/github/vincentcp/CardinalBSplines?branch=master)\n",
    " # CardinalBSplines\n",
    "\n",
    "A Julia module for evaluating cardinal B splines and L2 inner products over cardinal B splines\n"
   ]
  },
  {
   "cell_type": "code",
   "execution_count": null,
   "metadata": {},
   "outputs": [],
   "source": [
    "using CardinalBSplines\n",
    "using QuadGK\n",
    "using Plots"
   ]
  },
  {
   "cell_type": "markdown",
   "metadata": {},
   "source": [
    "evaluate_Bspline{T<:Real}(N::Int, x::Real, ::Type{T})"
   ]
  },
  {
   "cell_type": "code",
   "execution_count": null,
   "metadata": {},
   "outputs": [],
   "source": [
    "t = LinRange(-1,11,500)\n",
    "plot(legend=false)\n",
    "[plot!(t,evaluate_Bspline.(degree,t,Float64)) for degree in 0:10]\n",
    "plot!()"
   ]
  },
  {
   "cell_type": "markdown",
   "metadata": {},
   "source": [
    "evaluate_periodic_Bspline{T<:Real}(N::Int, x::Real, period::Real, ::Type{T})"
   ]
  },
  {
   "cell_type": "code",
   "execution_count": null,
   "metadata": {},
   "outputs": [],
   "source": [
    "t = LinRange(-1,11,500)\n",
    "plot(legend=false)\n",
    "[plot!(t,evaluate_periodic_Bspline.(degree,t,4,Float64)) for degree in 0:6]\n",
    "plot!()"
   ]
  },
  {
   "cell_type": "markdown",
   "metadata": {},
   "source": [
    "evaluate_symmetric_periodic_Bspline{T<:Real}(N::Int, x::Real, period::Real, ::Type{T})"
   ]
  },
  {
   "cell_type": "code",
   "execution_count": null,
   "metadata": {},
   "outputs": [],
   "source": [
    "t = LinRange(-4,4,500)\n",
    "plot(legend=false)\n",
    "[plot!(t,evaluate_symmetric_periodic_Bspline.(degree,t,4,Float64)) for degree in 0:6]\n",
    "plot!()"
   ]
  },
  {
   "cell_type": "markdown",
   "metadata": {},
   "source": [
    "squared_spline_integral(N::Int)"
   ]
  },
  {
   "cell_type": "code",
   "execution_count": null,
   "metadata": {},
   "outputs": [],
   "source": [
    "squared_integrals = [squared_spline_integral(N) for N in 1:10]"
   ]
  },
  {
   "cell_type": "code",
   "execution_count": null,
   "metadata": {},
   "outputs": [],
   "source": [
    "squared_integrals_test = [QuadGK.quadgk(x->evaluate_Bspline(N,x,Float64)^2,LinRange(0,11,12)...)[1] for N in 1:10]"
   ]
  },
  {
   "cell_type": "code",
   "execution_count": null,
   "metadata": {},
   "outputs": [],
   "source": [
    "@assert squared_integrals ≈ squared_integrals_test"
   ]
  },
  {
   "cell_type": "markdown",
   "metadata": {},
   "source": [
    "shifted_spline_integral(m::Int,t::Int)"
   ]
  },
  {
   "cell_type": "code",
   "execution_count": null,
   "metadata": {},
   "outputs": [],
   "source": [
    "shifted_integrals = [shifted_spline_integral(N, t, BigFloat) for N in 1:10, t in 0:9]"
   ]
  },
  {
   "cell_type": "code",
   "execution_count": null,
   "metadata": {},
   "outputs": [],
   "source": [
    "shifted_integrals_test = [QuadGK.quadgk(x->evaluate_Bspline(N,x-t,Float64)*evaluate_Bspline(N,x,Float64),LinRange(0,11,12)...)[1] for N in 1:10, t in 0:9]"
   ]
  },
  {
   "cell_type": "code",
   "execution_count": null,
   "metadata": {},
   "outputs": [],
   "source": [
    "@assert shifted_integrals ≈ shifted_integrals_test"
   ]
  },
  {
   "cell_type": "code",
   "execution_count": null,
   "metadata": {},
   "outputs": [],
   "source": []
  }
 ],
 "metadata": {
  "kernelspec": {
   "display_name": "Julia 1.1.0",
   "language": "julia",
   "name": "julia-1.1"
  },
  "language_info": {
   "file_extension": ".jl",
   "mimetype": "application/julia",
   "name": "julia",
   "version": "1.1.0"
  }
 },
 "nbformat": 4,
 "nbformat_minor": 2
}
